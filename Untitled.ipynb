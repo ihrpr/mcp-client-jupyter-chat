{
 "cells": [
  {
   "cell_type": "code",
   "execution_count": null,
   "id": "9f063765-f102-44ff-9793-b6b7e58132d7",
   "metadata": {},
   "outputs": [],
   "source": [
    "jupyter lab\n"
   ]
  }
 ],
 "metadata": {
  "kernelspec": {
   "display_name": "Python 3 (ipykernel)",
   "language": "python",
   "name": "python3"
  },
  "language_info": {
   "codemirror_mode": {
    "name": "ipython",
    "version": 3
   },
   "file_extension": ".py",
   "mimetype": "text/x-python",
   "name": "python",
   "nbconvert_exporter": "python",
   "pygments_lexer": "ipython3",
   "version": "3.13.1"
  }
 },
 "nbformat": 4,
 "nbformat_minor": 5
}
